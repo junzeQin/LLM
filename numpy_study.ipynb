{
 "cells": [
  {
   "metadata": {
    "ExecuteTime": {
     "end_time": "2024-08-26T06:37:20.189238Z",
     "start_time": "2024-08-26T06:37:20.185658Z"
    }
   },
   "cell_type": "code",
   "source": "import numpy as np",
   "id": "b5c58f9af3c25abf",
   "outputs": [],
   "execution_count": 6
  },
  {
   "cell_type": "code",
   "id": "initial_id",
   "metadata": {
    "collapsed": true,
    "ExecuteTime": {
     "end_time": "2024-08-26T07:51:48.048076Z",
     "start_time": "2024-08-26T07:51:48.042570Z"
    }
   },
   "source": [
    "a = np.array([1, 2, 3])\n",
    "a"
   ],
   "outputs": [
    {
     "data": {
      "text/plain": [
       "array([1, 2, 3])"
      ]
     },
     "execution_count": 33,
     "metadata": {},
     "output_type": "execute_result"
    }
   ],
   "execution_count": 33
  },
  {
   "metadata": {
    "ExecuteTime": {
     "end_time": "2024-08-26T07:51:38.470984Z",
     "start_time": "2024-08-26T07:51:38.466799Z"
    }
   },
   "cell_type": "code",
   "source": "a[::-1]",
   "id": "244e0dfd500c37e4",
   "outputs": [
    {
     "data": {
      "text/plain": [
       "array([3, 2, 1])"
      ]
     },
     "execution_count": 31,
     "metadata": {},
     "output_type": "execute_result"
    }
   ],
   "execution_count": 31
  },
  {
   "metadata": {
    "ExecuteTime": {
     "end_time": "2024-08-26T06:42:02.260964Z",
     "start_time": "2024-08-26T06:42:02.255838Z"
    }
   },
   "cell_type": "code",
   "source": "np.zeros((3, 2))",
   "id": "11eeaa8e7e7146e8",
   "outputs": [
    {
     "data": {
      "text/plain": [
       "array([[0., 0.],\n",
       "       [0., 0.],\n",
       "       [0., 0.]])"
      ]
     },
     "execution_count": 14,
     "metadata": {},
     "output_type": "execute_result"
    }
   ],
   "execution_count": 14
  },
  {
   "metadata": {
    "ExecuteTime": {
     "end_time": "2024-08-26T06:42:04.740696Z",
     "start_time": "2024-08-26T06:42:04.735080Z"
    }
   },
   "cell_type": "code",
   "source": "np.zeros((4, 2), dtype=np.int32)",
   "id": "ca41edaffd5014e",
   "outputs": [
    {
     "data": {
      "text/plain": [
       "array([[0, 0],\n",
       "       [0, 0],\n",
       "       [0, 0],\n",
       "       [0, 0]])"
      ]
     },
     "execution_count": 15,
     "metadata": {},
     "output_type": "execute_result"
    }
   ],
   "execution_count": 15
  },
  {
   "metadata": {
    "ExecuteTime": {
     "end_time": "2024-08-26T06:38:44.764066Z",
     "start_time": "2024-08-26T06:38:44.759924Z"
    }
   },
   "cell_type": "code",
   "source": "np.arange(3,7)",
   "id": "f0be7f0fb706a25a",
   "outputs": [
    {
     "data": {
      "text/plain": [
       "array([3, 4, 5, 6])"
      ]
     },
     "execution_count": 10,
     "metadata": {},
     "output_type": "execute_result"
    }
   ],
   "execution_count": 10
  },
  {
   "metadata": {
    "ExecuteTime": {
     "end_time": "2024-08-26T06:39:11.933113Z",
     "start_time": "2024-08-26T06:39:11.928633Z"
    }
   },
   "cell_type": "code",
   "source": "np.linspace(0,1,5)",
   "id": "831dc3cace534846",
   "outputs": [
    {
     "data": {
      "text/plain": [
       "array([0.  , 0.25, 0.5 , 0.75, 1.  ])"
      ]
     },
     "execution_count": 11,
     "metadata": {},
     "output_type": "execute_result"
    }
   ],
   "execution_count": 11
  },
  {
   "metadata": {
    "ExecuteTime": {
     "end_time": "2024-08-26T06:39:47.517678Z",
     "start_time": "2024-08-26T06:39:47.512019Z"
    }
   },
   "cell_type": "code",
   "source": "np.random.rand(2,4)",
   "id": "938bfe6644c5541a",
   "outputs": [
    {
     "data": {
      "text/plain": [
       "array([[0.22199968, 0.26572991, 0.05196897, 0.57123707],\n",
       "       [0.68516717, 0.37213148, 0.48806053, 0.43835465]])"
      ]
     },
     "execution_count": 12,
     "metadata": {},
     "output_type": "execute_result"
    }
   ],
   "execution_count": 12
  },
  {
   "metadata": {
    "ExecuteTime": {
     "end_time": "2024-08-26T06:44:44.857703Z",
     "start_time": "2024-08-26T06:44:44.849708Z"
    }
   },
   "cell_type": "code",
   "source": [
    "a = np.array([1, 2, 3])\n",
    "b = np.array([4, 5, 6])\n",
    "# 输出 32 (1*4 + 2*5 + 3*6)\n",
    "np.dot(a, b)"
   ],
   "id": "27650e2d613ba06b",
   "outputs": [
    {
     "data": {
      "text/plain": [
       "32"
      ]
     },
     "execution_count": 16,
     "metadata": {},
     "output_type": "execute_result"
    }
   ],
   "execution_count": 16
  },
  {
   "metadata": {
    "ExecuteTime": {
     "end_time": "2024-08-26T07:05:14.347734Z",
     "start_time": "2024-08-26T07:05:14.341594Z"
    }
   },
   "cell_type": "code",
   "source": [
    "a = np.array([[1, 2], [3, 4]])\n",
    "b = np.array([[5, 6], [7, 8]])\n",
    "\"\"\"\n",
    "进行矩阵乘法操作\n",
    "矩阵 a 乘以矩阵 b 的结果会是一个新的 2x2 矩阵。\n",
    "对应位置的元素相乘再相加：\n",
    "第一行第一列元素：1∗5+2∗7=19\n",
    "第一行第二列元素：1∗6+2∗8=22\n",
    "第二行第一列元素：3∗5+4∗7=43\n",
    "第二行第二列元素：3∗6+4∗8=50\n",
    "\"\"\"\n",
    "a @ b"
   ],
   "id": "69be36a6beb5f518",
   "outputs": [
    {
     "data": {
      "text/plain": [
       "array([[19, 22],\n",
       "       [43, 50]])"
      ]
     },
     "execution_count": 29,
     "metadata": {},
     "output_type": "execute_result"
    }
   ],
   "execution_count": 29
  },
  {
   "metadata": {
    "ExecuteTime": {
     "end_time": "2024-08-26T08:29:02.391777Z",
     "start_time": "2024-08-26T08:29:02.189972Z"
    }
   },
   "cell_type": "code",
   "source": "from PIL import Image",
   "id": "83b108fe08ba4b3c",
   "outputs": [],
   "execution_count": 34
  },
  {
   "metadata": {
    "ExecuteTime": {
     "end_time": "2024-08-26T08:32:07.617496Z",
     "start_time": "2024-08-26T08:32:06.937634Z"
    }
   },
   "cell_type": "code",
   "source": [
    "im = Image.open('F:/image/bus.jpg')\n",
    "im.show()"
   ],
   "id": "2073d50262570b22",
   "outputs": [],
   "execution_count": 35
  },
  {
   "metadata": {
    "ExecuteTime": {
     "end_time": "2024-08-26T08:32:43.344452Z",
     "start_time": "2024-08-26T08:32:43.297412Z"
    }
   },
   "cell_type": "code",
   "source": [
    "im = np.array(im)\n",
    "im.shape"
   ],
   "id": "5a3d3ac0a9b152f9",
   "outputs": [
    {
     "data": {
      "text/plain": [
       "(1080, 810, 3)"
      ]
     },
     "execution_count": 36,
     "metadata": {},
     "output_type": "execute_result"
    }
   ],
   "execution_count": 36
  },
  {
   "metadata": {
    "ExecuteTime": {
     "end_time": "2024-08-26T08:33:04.613755Z",
     "start_time": "2024-08-26T08:33:04.609442Z"
    }
   },
   "cell_type": "code",
   "source": "im[100,100]",
   "id": "1011f076a0fed38e",
   "outputs": [
    {
     "data": {
      "text/plain": [
       "array([210, 189, 158], dtype=uint8)"
      ]
     },
     "execution_count": 37,
     "metadata": {},
     "output_type": "execute_result"
    }
   ],
   "execution_count": 37
  },
  {
   "metadata": {
    "ExecuteTime": {
     "end_time": "2024-08-26T08:34:21.643854Z",
     "start_time": "2024-08-26T08:34:21.379357Z"
    }
   },
   "cell_type": "code",
   "source": [
    "im_r=im[:,:,0]\n",
    "Image.fromarray(im_r).show()"
   ],
   "id": "6e60000884d9caea",
   "outputs": [],
   "execution_count": 40
  },
  {
   "metadata": {
    "ExecuteTime": {
     "end_time": "2024-08-26T08:38:02.086773Z",
     "start_time": "2024-08-26T08:38:01.871478Z"
    }
   },
   "cell_type": "code",
   "source": [
    "im1 = np.array(Image.open('F:/image/bus.jpg'))\n",
    "im2 = np.array(Image.open('F:/image/zidane.jpg'))\n",
    "im_blend = im1 * 0.4 + im2 * 0.6\n",
    "im_blend = im_blend.astype(np.uint8)\n",
    "Image.fromarray(im_blend).show()"
   ],
   "id": "77129df069c3141d",
   "outputs": [
    {
     "ename": "ValueError",
     "evalue": "operands could not be broadcast together with shapes (1080,810,3) (720,1280,3) ",
     "output_type": "error",
     "traceback": [
      "\u001B[1;31m---------------------------------------------------------------------------\u001B[0m",
      "\u001B[1;31mValueError\u001B[0m                                Traceback (most recent call last)",
      "Cell \u001B[1;32mIn[41], line 3\u001B[0m\n\u001B[0;32m      1\u001B[0m im1\u001B[38;5;241m=\u001B[39mnp\u001B[38;5;241m.\u001B[39marray(Image\u001B[38;5;241m.\u001B[39mopen(\u001B[38;5;124m'\u001B[39m\u001B[38;5;124mF:/image/bus.jpg\u001B[39m\u001B[38;5;124m'\u001B[39m))\n\u001B[0;32m      2\u001B[0m im2\u001B[38;5;241m=\u001B[39mnp\u001B[38;5;241m.\u001B[39marray(Image\u001B[38;5;241m.\u001B[39mopen(\u001B[38;5;124m'\u001B[39m\u001B[38;5;124mF:/image/zidane.jpg\u001B[39m\u001B[38;5;124m'\u001B[39m))\n\u001B[1;32m----> 3\u001B[0m im_blend\u001B[38;5;241m=\u001B[39mim1\u001B[38;5;241m*\u001B[39m\u001B[38;5;241m0.4\u001B[39m\u001B[38;5;241m+\u001B[39mim2\u001B[38;5;241m*\u001B[39m\u001B[38;5;241m0.6\u001B[39m\n\u001B[0;32m      4\u001B[0m im_blend\u001B[38;5;241m=\u001B[39mim_blend\u001B[38;5;241m.\u001B[39mastype(np\u001B[38;5;241m.\u001B[39muint8)\n\u001B[0;32m      5\u001B[0m Image\u001B[38;5;241m.\u001B[39mfromarray(im_blend)\u001B[38;5;241m.\u001B[39mshow()\n",
      "\u001B[1;31mValueError\u001B[0m: operands could not be broadcast together with shapes (1080,810,3) (720,1280,3) "
     ]
    }
   ],
   "execution_count": 41
  }
 ],
 "metadata": {
  "kernelspec": {
   "display_name": "Python 3",
   "language": "python",
   "name": "python3"
  },
  "language_info": {
   "codemirror_mode": {
    "name": "ipython",
    "version": 2
   },
   "file_extension": ".py",
   "mimetype": "text/x-python",
   "name": "python",
   "nbconvert_exporter": "python",
   "pygments_lexer": "ipython2",
   "version": "2.7.6"
  }
 },
 "nbformat": 4,
 "nbformat_minor": 5
}
