{
 "cells": [
  {
   "metadata": {
    "ExecuteTime": {
     "end_time": "2024-08-26T06:37:20.189238Z",
     "start_time": "2024-08-26T06:37:20.185658Z"
    }
   },
   "cell_type": "code",
   "source": "import numpy as np",
   "id": "b5c58f9af3c25abf",
   "outputs": [],
   "execution_count": 6
  },
  {
   "cell_type": "code",
   "id": "initial_id",
   "metadata": {
    "collapsed": true,
    "ExecuteTime": {
     "end_time": "2024-08-27T03:16:02.105673Z",
     "start_time": "2024-08-27T03:16:02.097150Z"
    }
   },
   "source": [
    "a = np.array([1.0, 2, 3.9], dtype=float)\n",
    "a"
   ],
   "outputs": [
    {
     "data": {
      "text/plain": [
       "array([1. , 2. , 3.9])"
      ]
     },
     "execution_count": 64,
     "metadata": {},
     "output_type": "execute_result"
    }
   ],
   "execution_count": 64
  },
  {
   "metadata": {
    "ExecuteTime": {
     "end_time": "2024-08-27T03:16:04.032693Z",
     "start_time": "2024-08-27T03:16:04.025151Z"
    }
   },
   "cell_type": "code",
   "source": "a.dtype",
   "id": "e504701afefe0710",
   "outputs": [
    {
     "data": {
      "text/plain": [
       "dtype('float64')"
      ]
     },
     "execution_count": 65,
     "metadata": {},
     "output_type": "execute_result"
    }
   ],
   "execution_count": 65
  },
  {
   "metadata": {
    "ExecuteTime": {
     "end_time": "2024-08-27T03:16:06.178294Z",
     "start_time": "2024-08-27T03:16:06.167880Z"
    }
   },
   "cell_type": "code",
   "source": [
    "b = a.astype(np.int32)\n",
    "b"
   ],
   "id": "4e8b4940fbd08d3c",
   "outputs": [
    {
     "data": {
      "text/plain": [
       "array([1, 2, 3])"
      ]
     },
     "execution_count": 66,
     "metadata": {},
     "output_type": "execute_result"
    }
   ],
   "execution_count": 66
  },
  {
   "metadata": {
    "ExecuteTime": {
     "end_time": "2024-08-27T03:05:32.664204Z",
     "start_time": "2024-08-27T03:05:32.660228Z"
    }
   },
   "cell_type": "code",
   "source": "a = np.array((1 + 2j, 2 + 3j, 4 + 5j))",
   "id": "fb01254d03174124",
   "outputs": [],
   "execution_count": 60
  },
  {
   "metadata": {
    "ExecuteTime": {
     "end_time": "2024-08-27T03:05:34.214613Z",
     "start_time": "2024-08-27T03:05:34.208717Z"
    }
   },
   "cell_type": "code",
   "source": "a.dtype",
   "id": "3f8437cb8ae3d0d1",
   "outputs": [
    {
     "data": {
      "text/plain": [
       "dtype('complex128')"
      ]
     },
     "execution_count": 61,
     "metadata": {},
     "output_type": "execute_result"
    }
   ],
   "execution_count": 61
  },
  {
   "metadata": {
    "ExecuteTime": {
     "end_time": "2024-08-27T03:05:49.845732Z",
     "start_time": "2024-08-27T03:05:49.839986Z"
    }
   },
   "cell_type": "code",
   "source": "a[::-1]",
   "id": "244e0dfd500c37e4",
   "outputs": [
    {
     "data": {
      "text/plain": [
       "array([4.+5.j, 2.+3.j, 1.+2.j])"
      ]
     },
     "execution_count": 62,
     "metadata": {},
     "output_type": "execute_result"
    }
   ],
   "execution_count": 62
  },
  {
   "metadata": {
    "ExecuteTime": {
     "end_time": "2024-08-26T06:42:02.260964Z",
     "start_time": "2024-08-26T06:42:02.255838Z"
    }
   },
   "cell_type": "code",
   "source": "np.zeros((3, 2))",
   "id": "11eeaa8e7e7146e8",
   "outputs": [
    {
     "data": {
      "text/plain": [
       "array([[0., 0.],\n",
       "       [0., 0.],\n",
       "       [0., 0.]])"
      ]
     },
     "execution_count": 14,
     "metadata": {},
     "output_type": "execute_result"
    }
   ],
   "execution_count": 14
  },
  {
   "metadata": {
    "ExecuteTime": {
     "end_time": "2024-08-26T06:42:04.740696Z",
     "start_time": "2024-08-26T06:42:04.735080Z"
    }
   },
   "cell_type": "code",
   "source": "np.zeros((4, 2), dtype=np.int32)",
   "id": "ca41edaffd5014e",
   "outputs": [
    {
     "data": {
      "text/plain": [
       "array([[0, 0],\n",
       "       [0, 0],\n",
       "       [0, 0],\n",
       "       [0, 0]])"
      ]
     },
     "execution_count": 15,
     "metadata": {},
     "output_type": "execute_result"
    }
   ],
   "execution_count": 15
  },
  {
   "metadata": {
    "ExecuteTime": {
     "end_time": "2024-08-27T03:19:19.166091Z",
     "start_time": "2024-08-27T03:19:19.160950Z"
    }
   },
   "cell_type": "code",
   "source": "np.arange(3, 7, 1, dtype=np.float_)",
   "id": "f0be7f0fb706a25a",
   "outputs": [
    {
     "data": {
      "text/plain": [
       "array([3., 4., 5., 6.])"
      ]
     },
     "execution_count": 68,
     "metadata": {},
     "output_type": "execute_result"
    }
   ],
   "execution_count": 68
  },
  {
   "metadata": {
    "ExecuteTime": {
     "end_time": "2024-08-26T06:39:11.933113Z",
     "start_time": "2024-08-26T06:39:11.928633Z"
    }
   },
   "cell_type": "code",
   "source": "np.linspace(0, 1, 5)",
   "id": "831dc3cace534846",
   "outputs": [
    {
     "data": {
      "text/plain": [
       "array([0.  , 0.25, 0.5 , 0.75, 1.  ])"
      ]
     },
     "execution_count": 11,
     "metadata": {},
     "output_type": "execute_result"
    }
   ],
   "execution_count": 11
  },
  {
   "metadata": {
    "ExecuteTime": {
     "end_time": "2024-08-26T06:39:47.517678Z",
     "start_time": "2024-08-26T06:39:47.512019Z"
    }
   },
   "cell_type": "code",
   "source": "np.random.rand(2, 4)",
   "id": "938bfe6644c5541a",
   "outputs": [
    {
     "data": {
      "text/plain": [
       "array([[0.22199968, 0.26572991, 0.05196897, 0.57123707],\n",
       "       [0.68516717, 0.37213148, 0.48806053, 0.43835465]])"
      ]
     },
     "execution_count": 12,
     "metadata": {},
     "output_type": "execute_result"
    }
   ],
   "execution_count": 12
  },
  {
   "metadata": {
    "ExecuteTime": {
     "end_time": "2024-08-26T06:44:44.857703Z",
     "start_time": "2024-08-26T06:44:44.849708Z"
    }
   },
   "cell_type": "code",
   "source": [
    "a = np.array([1, 2, 3])\n",
    "b = np.array([4, 5, 6])\n",
    "# 输出 32 (1*4 + 2*5 + 3*6)\n",
    "np.dot(a, b)"
   ],
   "id": "27650e2d613ba06b",
   "outputs": [
    {
     "data": {
      "text/plain": [
       "32"
      ]
     },
     "execution_count": 16,
     "metadata": {},
     "output_type": "execute_result"
    }
   ],
   "execution_count": 16
  },
  {
   "metadata": {
    "ExecuteTime": {
     "end_time": "2024-08-26T07:05:14.347734Z",
     "start_time": "2024-08-26T07:05:14.341594Z"
    }
   },
   "cell_type": "code",
   "source": [
    "a = np.array([[1, 2], [3, 4]])\n",
    "b = np.array([[5, 6], [7, 8]])\n",
    "\"\"\"\n",
    "进行矩阵乘法操作\n",
    "矩阵 a 乘以矩阵 b 的结果会是一个新的 2x2 矩阵。\n",
    "对应位置的元素相乘再相加：\n",
    "第一行第一列元素：1∗5+2∗7=19\n",
    "第一行第二列元素：1∗6+2∗8=22\n",
    "第二行第一列元素：3∗5+4∗7=43\n",
    "第二行第二列元素：3∗6+4∗8=50\n",
    "\"\"\"\n",
    "a @ b"
   ],
   "id": "69be36a6beb5f518",
   "outputs": [
    {
     "data": {
      "text/plain": [
       "array([[19, 22],\n",
       "       [43, 50]])"
      ]
     },
     "execution_count": 29,
     "metadata": {},
     "output_type": "execute_result"
    }
   ],
   "execution_count": 29
  },
  {
   "metadata": {
    "ExecuteTime": {
     "end_time": "2024-08-26T08:29:02.391777Z",
     "start_time": "2024-08-26T08:29:02.189972Z"
    }
   },
   "cell_type": "code",
   "source": "from PIL import Image",
   "id": "83b108fe08ba4b3c",
   "outputs": [],
   "execution_count": 34
  },
  {
   "metadata": {
    "ExecuteTime": {
     "end_time": "2024-08-27T00:48:41.108154Z",
     "start_time": "2024-08-27T00:48:40.573993Z"
    }
   },
   "cell_type": "code",
   "source": [
    "im = Image.open('F:/image/dog.jpg')\n",
    "im.show()"
   ],
   "id": "2073d50262570b22",
   "outputs": [],
   "execution_count": 50
  },
  {
   "metadata": {
    "ExecuteTime": {
     "end_time": "2024-08-27T00:48:45.318638Z",
     "start_time": "2024-08-27T00:48:45.311226Z"
    }
   },
   "cell_type": "code",
   "source": [
    "im = np.array(im)\n",
    "im.shape"
   ],
   "id": "5a3d3ac0a9b152f9",
   "outputs": [
    {
     "data": {
      "text/plain": [
       "(760, 1280, 3)"
      ]
     },
     "execution_count": 51,
     "metadata": {},
     "output_type": "execute_result"
    }
   ],
   "execution_count": 51
  },
  {
   "metadata": {
    "ExecuteTime": {
     "end_time": "2024-08-27T00:48:37.669883Z",
     "start_time": "2024-08-27T00:48:37.663281Z"
    }
   },
   "cell_type": "code",
   "source": "im[100, 100]",
   "id": "1011f076a0fed38e",
   "outputs": [
    {
     "data": {
      "text/plain": [
       "array([242, 178, 140], dtype=uint8)"
      ]
     },
     "execution_count": 49,
     "metadata": {},
     "output_type": "execute_result"
    }
   ],
   "execution_count": 49
  },
  {
   "metadata": {
    "ExecuteTime": {
     "end_time": "2024-08-27T00:49:51.060314Z",
     "start_time": "2024-08-27T00:49:50.932325Z"
    }
   },
   "cell_type": "code",
   "source": [
    "im_cropped = im[40:540, 400:900, :]\n",
    "Image.fromarray(im_cropped).show()"
   ],
   "id": "b421b1efd6d921b5",
   "outputs": [],
   "execution_count": 52
  },
  {
   "metadata": {
    "ExecuteTime": {
     "end_time": "2024-08-27T00:47:56.154009Z",
     "start_time": "2024-08-27T00:47:55.614746Z"
    }
   },
   "cell_type": "code",
   "source": [
    "im_flipped = im[::-1, :, :]\n",
    "Image.fromarray(im_flipped).show()"
   ],
   "id": "6ae3988eb8f4729d",
   "outputs": [],
   "execution_count": 48
  },
  {
   "metadata": {
    "ExecuteTime": {
     "end_time": "2024-08-26T08:34:21.643854Z",
     "start_time": "2024-08-26T08:34:21.379357Z"
    }
   },
   "cell_type": "code",
   "source": [
    "im_r = im[:, :, 0]\n",
    "Image.fromarray(im_r).show()"
   ],
   "id": "6e60000884d9caea",
   "outputs": [],
   "execution_count": 40
  },
  {
   "metadata": {},
   "cell_type": "code",
   "outputs": [],
   "execution_count": null,
   "source": "",
   "id": "ee5a1026181bf22c"
  },
  {
   "metadata": {
    "ExecuteTime": {
     "end_time": "2024-08-27T00:41:19.792878Z",
     "start_time": "2024-08-27T00:41:19.016324Z"
    }
   },
   "cell_type": "code",
   "source": [
    "im1 = np.array(Image.open('F:/image/dog.jpg'))\n",
    "im2 = np.array(Image.open('F:/image/cat.jpg'))\n",
    "im_blend = im1 * 0.4 + im2 * 0.6\n",
    "im_blend = im_blend.astype(np.uint8)\n",
    "Image.fromarray(im_blend).show()"
   ],
   "id": "77129df069c3141d",
   "outputs": [],
   "execution_count": 43
  },
  {
   "metadata": {},
   "cell_type": "code",
   "outputs": [],
   "execution_count": null,
   "source": "",
   "id": "6f711f59b8ace4b4"
  }
 ],
 "metadata": {
  "kernelspec": {
   "display_name": "Python 3",
   "language": "python",
   "name": "python3"
  },
  "language_info": {
   "codemirror_mode": {
    "name": "ipython",
    "version": 2
   },
   "file_extension": ".py",
   "mimetype": "text/x-python",
   "name": "python",
   "nbconvert_exporter": "python",
   "pygments_lexer": "ipython2",
   "version": "2.7.6"
  }
 },
 "nbformat": 4,
 "nbformat_minor": 5
}
